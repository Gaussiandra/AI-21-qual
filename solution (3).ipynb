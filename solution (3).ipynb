{
 "cells": [
  {
   "cell_type": "code",
   "execution_count": null,
   "metadata": {},
   "outputs": [],
   "source": [
    "!pip install neptune-notebooks\n",
    "!jupyter nbextension enable --py neptune-notebooks"
   ]
  },
  {
   "cell_type": "code",
   "execution_count": null,
   "metadata": {},
   "outputs": [],
   "source": [
    "!pip install ipywidgets\n",
    "!jupyter nbextension enable --py widgetsnbextension"
   ]
  },
  {
   "cell_type": "code",
   "execution_count": null,
   "metadata": {
    "id": "yad9UNcG1b-w",
    "scrolled": false
   },
   "outputs": [],
   "source": [
    "!pip install transformers\n",
    "!pip install catalyst\n",
    "!pip install neptune-client"
   ]
  },
  {
   "cell_type": "code",
   "execution_count": 1,
   "metadata": {
    "colab": {
     "base_uri": "https://localhost:8080/"
    },
    "id": "9vR583H9Sirj",
    "outputId": "e1be7424-cb9b-4e2e-fa77-aabcd191dfbb"
   },
   "outputs": [
    {
     "name": "stdout",
     "output_type": "stream",
     "text": [
      "              total        used        free      shared  buff/cache   available\n",
      "Mem:        1546833       78117       87587         733     1381128     1461338\n",
      "Swap:             0           0           0\n",
      "Sun Feb 28 17:06:28 2021       \n",
      "+-----------------------------------------------------------------------------+\n",
      "| NVIDIA-SMI 418.165.02   Driver Version: 418.165.02   CUDA Version: 10.1     |\n",
      "|-------------------------------+----------------------+----------------------+\n",
      "| GPU  Name        Persistence-M| Bus-Id        Disp.A | Volatile Uncorr. ECC |\n",
      "| Fan  Temp  Perf  Pwr:Usage/Cap|         Memory-Usage | GPU-Util  Compute M. |\n",
      "|===============================+======================+======================|\n",
      "|   0  Tesla V100-SXM3...  On   | 00000000:5E:00.0 Off |                    0 |\n",
      "| N/A   49C    P0    51W / 350W |      0MiB / 32480MiB |      0%      Default |\n",
      "+-------------------------------+----------------------+----------------------+\n",
      "                                                                               \n",
      "+-----------------------------------------------------------------------------+\n",
      "| Processes:                                                       GPU Memory |\n",
      "|  GPU       PID   Type   Process name                             Usage      |\n",
      "|=============================================================================|\n",
      "|  No running processes found                                                 |\n",
      "+-----------------------------------------------------------------------------+\n"
     ]
    }
   ],
   "source": [
    "!free -m\n",
    "!nvidia-smi"
   ]
  },
  {
   "cell_type": "code",
   "execution_count": 2,
   "metadata": {
    "id": "IslBv6JkWC7c"
   },
   "outputs": [],
   "source": [
    "global_path = '/home/jovyan/AI_21/'\n",
    "\n",
    "experiment_params = {\n",
    "    'MODEL_NAME': 'DeepPavlov/rubert-base-cased',\n",
    "    'MAX_LEN': 512,\n",
    "    'EFFECTIVE_BATCH_SIZE': 16,\n",
    "    'BATCH_SIZE': 16,\n",
    "    'RANDOM_SEED': 665,\n",
    "    'NUM_CLASSES': 2,\n",
    "    'LEARNING_RATE': 5e-5,\n",
    "    'CHANGE_QUESTION_PROBA': 0.05,\n",
    "    'CHANGE_ANSWER_PROBA': 0.05,\n",
    "}"
   ]
  },
  {
   "cell_type": "code",
   "execution_count": 3,
   "metadata": {
    "id": "Os9oln5XWio9"
   },
   "outputs": [],
   "source": [
    "import json\n",
    "import os\n",
    "import json\n",
    "import sys\n",
    "import re\n",
    "import random\n",
    "from tqdm.auto import tqdm\n",
    "from collections import defaultdict\n",
    "\n",
    "import numpy as np\n",
    "import torch\n",
    "import torch.nn as nn\n",
    "import neptune\n",
    "from torch.utils.data import Dataset, DataLoader\n",
    "from transformers import AutoTokenizer, AutoModel\n",
    "\n",
    "from catalyst.dl import SupervisedRunner\n",
    "# from catalyst.dl.callbacks import (\n",
    "#     AccuracyCallback,\n",
    "#     F1ScoreCallback,\n",
    "#     CheckpointCallback,\n",
    "#     InferCallback,\n",
    "#     OptimizerCallback,\n",
    "#     NeptuneLogger,\n",
    "#     CriterionCallback\n",
    "# )\n",
    "from catalyst.core.callback import Callback, CallbackNode, CallbackOrder\n",
    "from catalyst.utils import prepare_cudnn, set_global_seed\n",
    "from catalyst import utils, dl"
   ]
  },
  {
   "cell_type": "code",
   "execution_count": 4,
   "metadata": {
    "colab": {
     "base_uri": "https://localhost:8080/",
     "height": 292
    },
    "id": "MLiJ3CGjWcav",
    "outputId": "e1f0b28e-83f8-4deb-c006-64f538f65bf0"
   },
   "outputs": [],
   "source": [
    "raw_train = [json.loads(s) for s in open(global_path+'data/train.jsonl')]\n",
    "raw_test = [json.loads(s) for s in open(global_path+'data/test.jsonl')]\n",
    "raw_val = [json.loads(s) for s in open(global_path+'data/val.jsonl')]\n",
    "#submit_example = [json.loads(s) for s in open(global_path+'data/correct_submit_file_example.jsonl.txt')]"
   ]
  },
  {
   "cell_type": "markdown",
   "metadata": {
    "id": "4tQqdA8_YTiO"
   },
   "source": [
    "### Statistics"
   ]
  },
  {
   "cell_type": "code",
   "execution_count": 5,
   "metadata": {
    "colab": {
     "base_uri": "https://localhost:8080/"
    },
    "id": "mqYkqMPpva7r",
    "outputId": "d3685abc-5ae6-4796-c6d0-2ac60b0be9d5"
   },
   "outputs": [
    {
     "data": {
      "text/plain": [
       "(500, 322, 100)"
      ]
     },
     "execution_count": 5,
     "metadata": {},
     "output_type": "execute_result"
    }
   ],
   "source": [
    "len(raw_train), len(raw_test), len(raw_val)"
   ]
  },
  {
   "cell_type": "code",
   "execution_count": 6,
   "metadata": {
    "colab": {
     "base_uri": "https://localhost:8080/"
    },
    "id": "5mHodlII8diZ",
    "outputId": "ccc646e4-3f02-46c0-faf0-b58ae8742583"
   },
   "outputs": [
    {
     "data": {
      "text/plain": [
       "'\"(1) Лидер незарегистрированной партии \"Другая Россия\" Эдуард Лимонов обратился в Конституционный суд РФ с жалобой на новый закон о митингах. (2) Об этом 9 октября сообщает агентство \"Интерфакс\". (3) \"У меня есть слабая надежда. (4) Закон о митингах противоречит Конституции\", - заявил Лимонов. (5) По его мнению, среди неконституционных пунктов закона - запрет на организацию митингов людьми, которые более двух раз привлекались к административной ответственности за нарушение правил предвыборной агитации, неповиновение полиции, хулиганство, блокирование движения транспорта или производство экстремистских материалов. (6) Закон о митингах был применён лично против Лимонова. (7) Его оштрафовали на 12 тысяч рублей за акцию на Триумфальной площади 31 июля. (8) Федеральный закон \"О собраниях, митингах, демонстрациях, шествиях и пикетированиях\" вступил в силу 9 июня 2012 года. (9) О намерении оспорить закон в КС практически сразу объявили думские фракции \"Справедливой России\" и КПРФ. (10) В итоге запрос в КС направили только эсеры. (11) Лидер фракции Сергей Миронов заявил о \"разделении обязанностей\" между СР и КПРФ. (12) \"С коммунистами мы уже де-факто в долговременном союзе. (13) Взять, к примеру, наши запросы в Конституционный суд: мы - по закону о митингах, они - по закону о выборах губернаторов\", - пояснил он. (14) Об ответе суда на запрос пока не сообщалось.\"'"
      ]
     },
     "execution_count": 6,
     "metadata": {},
     "output_type": "execute_result"
    }
   ],
   "source": [
    "raw_train[43]['passage']['text']"
   ]
  },
  {
   "cell_type": "code",
   "execution_count": 7,
   "metadata": {
    "colab": {
     "base_uri": "https://localhost:8080/"
    },
    "id": "vUglseAvW7v7",
    "outputId": "f009d5bc-8463-4357-e2b7-db915c7feab4"
   },
   "outputs": [
    {
     "name": "stdout",
     "output_type": "stream",
     "text": [
      "2897 11950 2.220364176885916\n",
      "1380.538\n"
     ]
    }
   ],
   "source": [
    "n_questions, n_answers, n_corrects = 0, 0, 0\n",
    "texts_lens = []\n",
    "for cur_q in raw_train:\n",
    "    texts_lens.append(len(cur_q['passage']['text']))\n",
    "    for question in cur_q['passage']['questions']:\n",
    "        n_questions += 1\n",
    "        n_answers += len(question['answers'])\n",
    "        n_corrects += sum(i['label'] for i in question['answers'])\n",
    "print(n_questions, n_answers, n_answers / n_corrects)\n",
    "print(np.mean(texts_lens))"
   ]
  },
  {
   "cell_type": "markdown",
   "metadata": {
    "id": "QTMkte7ZmN71"
   },
   "source": [
    "### Datasets"
   ]
  },
  {
   "cell_type": "code",
   "execution_count": 8,
   "metadata": {
    "id": "5pSvJ5UWYXts"
   },
   "outputs": [],
   "source": [
    "class QADataset(Dataset):\n",
    "    def __init__(\n",
    "        self, \n",
    "        samples, \n",
    "        model_name, \n",
    "        max_len,\n",
    "        **kwargs\n",
    "    ):\n",
    "        self.model_name = model_name\n",
    "        self.max_len = max_len\n",
    "        self.tokenizer = AutoTokenizer.from_pretrained(self.model_name)\n",
    "        self.kwargs = kwargs\n",
    "\n",
    "        # text, question, answer\n",
    "        self.raw_triplets = []\n",
    "        self.labels = []\n",
    "\n",
    "        for sample in samples:\n",
    "            text = sample['passage']['text']\n",
    "            text = re.sub('\\(\\d+\\)', '', text)\n",
    "\n",
    "            for task in sample['passage']['questions']:\n",
    "                question = task['question']\n",
    "                for answer_info in task['answers']:\n",
    "                    answer = answer_info['text']\n",
    "                    if 'label' in answer_info:\n",
    "                        label = answer_info['label']\n",
    "                        self.labels.append(label)\n",
    "                    self.raw_triplets.append([text, question, answer])\n",
    "\n",
    "    def __len__(self):\n",
    "        return len(self.raw_triplets)\n",
    "    \n",
    "    def __getitem__(self, index):\n",
    "        text, question, answer = self.raw_triplets[index]\n",
    "\n",
    "        is_augmented_sample = False\n",
    "        if ('CHANGE_QUESTION_PROBA' in self.kwargs and\n",
    "            'CHANGE_ANSWER_PROBA' in self.kwargs):\n",
    "            if random.random() <= self.kwargs['CHANGE_QUESTION_PROBA']:\n",
    "                question = random.choice(self.raw_triplets)[1]\n",
    "                is_augmented_sample = True\n",
    "\n",
    "            if random.random() <= self.kwargs['CHANGE_ANSWER_PROBA']:\n",
    "                answer = random.choice(self.raw_triplets)[2]\n",
    "                is_augmented_sample = True\n",
    "\n",
    "        tokenization = self.tokenizer([text, question, answer])\n",
    "\n",
    "        remain_text_part = (\n",
    "            self.max_len - \n",
    "            len(tokenization['input_ids'][1][1:]) - # question\n",
    "            len(tokenization['input_ids'][2][1:])   # answer\n",
    "        )\n",
    "        remain_text_part = min(\n",
    "            remain_text_part, \n",
    "            len(tokenization['input_ids'][0])\n",
    "        )\n",
    "        assert remain_text_part > 0\n",
    "\n",
    "        # concatenate tokenized triplets\n",
    "        tokenization['input_ids'] = (\n",
    "            tokenization['input_ids'][0][:remain_text_part - 1] +\n",
    "            [self.tokenizer.sep_token_id] +\n",
    "            tokenization['input_ids'][1][1:] +\n",
    "            tokenization['input_ids'][2][1:]\n",
    "        )\n",
    "        if 'token_type_ids' in tokenization:\n",
    "            tokenization['token_type_ids'] = (\n",
    "                tokenization['token_type_ids'][0][:remain_text_part] + \n",
    "                [1] * len(tokenization['token_type_ids'][1][1:]) +\n",
    "                [1] * len(tokenization['token_type_ids'][2][1:])\n",
    "            )\n",
    "            assert len(tokenization['input_ids']) == len(tokenization['token_type_ids'])\n",
    "        tokenization['attention_mask'] = [1] * len(tokenization['input_ids'])\n",
    "        assert len(tokenization['input_ids']) == len(tokenization['attention_mask'])\n",
    "\n",
    "        for k, v in tokenization.items():\n",
    "            tokenization[k] = torch.tensor(np.pad(\n",
    "                v,\n",
    "                (0, self.max_len - len(v)), \n",
    "                constant_values=self.tokenizer.pad_token_id\n",
    "            ))\n",
    "            assert tokenization[k].shape[0] == self.max_len\n",
    "\n",
    "        if self.labels:\n",
    "            if is_augmented_sample:\n",
    "                tokenization['targets'] = torch.tensor(0)\n",
    "            else:\n",
    "                tokenization['targets'] = torch.tensor(self.labels[index])#, dtype=torch.float)\n",
    "\n",
    "        return tokenization"
   ]
  },
  {
   "cell_type": "code",
   "execution_count": 9,
   "metadata": {
    "colab": {
     "base_uri": "https://localhost:8080/",
     "height": 216,
     "referenced_widgets": [
      "915566b65ffa4e1fbbf34ac708192ac9",
      "1dff217a9b8d4df8977f10e458a364a9",
      "7dd9dddb960647d192f187fb6279b182",
      "d80aad5f569a4429a0353b3c87707747",
      "84f49eea292142498e0e388958671d5d",
      "5d4ed07583854d1a92f59f244e89e4a0",
      "a3f23a111ff1426eb4cb8bd42b5861b0",
      "746cf104d8a44815bde139f96c344f2e",
      "2c4e7a88366a468c8c775bd806b1ccc3",
      "6863ea5e9f764bc4a03e59cc31b52dbf",
      "976adfce900f465497021446da60d5a2",
      "acb152e2c7e3405ea0e37c9ac405d667",
      "f3cbc985dc5b4570b6ad05d0c7ba0aff",
      "d81de7832447417d8ed3e11ede45bd73",
      "bcb38ed236c74378ab446e579564d5e3",
      "e0674d2dc82b4a2dabb02d83c5808ef9",
      "5815f0a142514104a5cff8e8cf77ba83",
      "fff632f89cb049958c7e26f712394df4",
      "58fa6a5b44354c58a5fb1b00b1e42d11",
      "18adb87e10624ec49caa051b5ff2d819",
      "44a9091e25a14561902002396df5fb1b",
      "4b4ffbce6b904016b8d469221783be66",
      "508c7aba38074e81946f2461e147205c",
      "25b361832c4a40d08c4747116086b2ab",
      "04ad71263f47456a803a87ace2f2f268",
      "2ae8ecc7ec814f6a9a145e1ade6dcb54",
      "c1d5bf460e1e46279442a7a5dc85da8f",
      "200b92c7040b4521a1e61b0dab26a351",
      "d7c9a8664eea470881ad947cd7887e75",
      "d56bca5ab9434fe183c4a259e437b735",
      "90bb83467463461cbac8bce00e369ffa",
      "1ab2a34c85f54e47b40bbbbfc4c586e7"
     ]
    },
    "id": "9IPJXI_2tdx2",
    "outputId": "495ae6fe-5428-4023-b1c3-e82a8d0f0039",
    "scrolled": true
   },
   "outputs": [],
   "source": [
    "train_qa_dataset = QADataset(\n",
    "    samples=raw_train,\n",
    "    model_name=experiment_params['MODEL_NAME'], \n",
    "    max_len=experiment_params['MAX_LEN'],\n",
    "    CHANGE_QUESTION_PROBA=experiment_params['CHANGE_QUESTION_PROBA'],\n",
    "    CHANGE_ANSWER_PROBA=experiment_params['CHANGE_ANSWER_PROBA'],\n",
    ")\n",
    "val_qa_dataset = QADataset(\n",
    "    samples=raw_val, \n",
    "    model_name=experiment_params['MODEL_NAME'], \n",
    "    max_len=experiment_params['MAX_LEN'],\n",
    "    CHANGE_QUESTION_PROBA=experiment_params['CHANGE_QUESTION_PROBA'],\n",
    "    CHANGE_ANSWER_PROBA=experiment_params['CHANGE_ANSWER_PROBA'],\n",
    ")\n",
    "test_qa_dataset = QADataset(\n",
    "    samples=raw_test, \n",
    "    model_name=experiment_params['MODEL_NAME'], \n",
    "    max_len=experiment_params['MAX_LEN'],\n",
    "    CHANGE_QUESTION_PROBA=experiment_params['CHANGE_QUESTION_PROBA'],\n",
    "    CHANGE_ANSWER_PROBA=experiment_params['CHANGE_ANSWER_PROBA'],\n",
    ")"
   ]
  },
  {
   "cell_type": "code",
   "execution_count": 10,
   "metadata": {
    "id": "G1z59fc4tAj3"
   },
   "outputs": [],
   "source": [
    "train_val_dataloaders = {\n",
    "    'train': DataLoader(\n",
    "        dataset=train_qa_dataset,\n",
    "        batch_size=experiment_params['BATCH_SIZE'], \n",
    "        shuffle=True,\n",
    "        num_workers=2,\n",
    "        pin_memory=True\n",
    "    ),\n",
    "    'valid': DataLoader(\n",
    "        dataset=val_qa_dataset, \n",
    "        batch_size=experiment_params['BATCH_SIZE'], \n",
    "        shuffle=False,\n",
    "        num_workers=2,\n",
    "        pin_memory=False,\n",
    "    )\n",
    "}\n",
    "test_dataloader = {\n",
    "    'infer': DataLoader(\n",
    "        dataset=test_qa_dataset, \n",
    "        batch_size=experiment_params['BATCH_SIZE'], \n",
    "        shuffle=False,\n",
    "    )\n",
    "}"
   ]
  },
  {
   "cell_type": "markdown",
   "metadata": {
    "id": "D9Cpfbmlnf0w"
   },
   "source": [
    "### Model and training"
   ]
  },
  {
   "cell_type": "code",
   "execution_count": 11,
   "metadata": {
    "id": "leccRe6ab273"
   },
   "outputs": [],
   "source": [
    "class QAModel(nn.Module):\n",
    "    def __init__(self, model_name, num_classes):\n",
    "        super().__init__()\n",
    "\n",
    "        self.model = AutoModel.from_pretrained(model_name)\n",
    "        self.linear = nn.Linear(self.model.config.hidden_size, num_classes)\n",
    "        self.dropout = nn.Dropout(0.15)\n",
    "\n",
    "    def forward(self, kwargs):\n",
    "        x = self.model(**kwargs).pooler_output\n",
    "        x = self.dropout(x)\n",
    "        x = self.linear(x)\n",
    "        return x"
   ]
  },
  {
   "cell_type": "code",
   "execution_count": 12,
   "metadata": {
    "colab": {
     "base_uri": "https://localhost:8080/",
     "height": 67,
     "referenced_widgets": [
      "56cf37a9ced94b2b818fa9cbc0c2eb65",
      "45bbece6efae43b0a7d90c3a34821b9c",
      "784b0f4f4a4d4a82ab8fd9856701ab11",
      "a5f470eb63ec4c47bddbb6d63366b221",
      "4b9ccc8c3d1c4658be560919549457d4",
      "56edbef257dd42e6b2bc6238d84fd71d",
      "5be2ae5723f14dde8e1ccf401ded184c",
      "6d2c3ccd23b54d74add1d2c807de630f"
     ]
    },
    "id": "w6ORnOpc9x5C",
    "outputId": "6d37a1dc-3074-49f6-8dd2-6613b42d4099"
   },
   "outputs": [],
   "source": [
    "model = QAModel(experiment_params['MODEL_NAME'], experiment_params['NUM_CLASSES'])\n",
    "optimizer = torch.optim.AdamW(model.parameters(), lr=experiment_params['LEARNING_RATE'], amsgrad=True)\n",
    "scheduler = torch.optim.lr_scheduler.ReduceLROnPlateau(optimizer, patience=2, factor=0.25)"
   ]
  },
  {
   "cell_type": "code",
   "execution_count": null,
   "metadata": {
    "id": "HRHxRJN6OiMW"
   },
   "outputs": [],
   "source": [
    "# for n, p in model.named_parameters():\n",
    "#     if any([n.startswith(s) for s in [\n",
    "#         # 'model.encoder.layer.20',\n",
    "#         # 'model.encoder.layer.21',\n",
    "#         # 'model.encoder.layer.22',\n",
    "#         # 'model.encoder.layer.23', \n",
    "#         'model.pooler', \n",
    "#         'linear'\n",
    "#     ]]):\n",
    "#         p.requires_grad = True\n",
    "#     else:\n",
    "#         p.requires_grad = False"
   ]
  },
  {
   "cell_type": "code",
   "execution_count": null,
   "metadata": {
    "id": "2uR-Qe_BAZl9"
   },
   "outputs": [],
   "source": [
    "# class FullUnreezeCallback(Callback):\n",
    "#     def __init__(self, batches_to_unfreeze):\n",
    "#         super().__init__(order=CallbackOrder.Metric + 1, node=CallbackNode.All)\n",
    "\n",
    "#         self.batches_to_unfreeze = batches_to_unfreeze\n",
    "#         self.cur_iteration = 0\n",
    "#         self.is_unfrozen = False\n",
    "\n",
    "#     def on_batch_end(self, runner):\n",
    "#         if runner.is_train_loader:\n",
    "#             self.cur_iteration += 1\n",
    "#             if (self.cur_iteration >= self.batches_to_unfreeze and \n",
    "#                 not self.is_unfrozen):\n",
    "#                 for p in runner.model.parameters():\n",
    "#                     p.requires_grad = True\n",
    "\n",
    "#                 self.is_unfrozen = True\n",
    "#                 print('Model was unfrozen.')"
   ]
  },
  {
   "cell_type": "code",
   "execution_count": 13,
   "metadata": {},
   "outputs": [
    {
     "name": "stdout",
     "output_type": "stream",
     "text": [
      "https://ui.neptune.ai/gaussiandra/ai21-2-test/e/AIT-3\n"
     ]
    }
   ],
   "source": [
    "neptune_logger = dl.NeptuneLogger(\n",
    "    api_token='eyJhcGlfYWRkcmVzcyI6Imh0dHBzOi8vdWkubmVwdHVuZS5haSIsImFwaV91cmwiOiJodHRwczovL3VpLm5lcHR1bmUuYWkiLCJhcGlfa2V5IjoiYjU1MDcwYmQtYzRkOS00ZjRhLWI2ZTUtNjMzODFjMmFkYmU4In0=',\n",
    "    project_name='gaussiandra/ai21-2-test',\n",
    "    offline_mode=False,\n",
    "    name='example',\n",
    "    params=experiment_params,  # your hyperparameters, immutable\n",
    "    #properties={'data_source': 'cifar10'},  # mutable\n",
    "    tags=['test'],  # tags\n",
    "    upload_source_files=['*.ipynb'],  # files to save, grep-like\n",
    ")"
   ]
  },
  {
   "cell_type": "code",
   "execution_count": 14,
   "metadata": {
    "id": "WMAsO_BVHLmw"
   },
   "outputs": [],
   "source": [
    "set_global_seed(experiment_params['RANDOM_SEED'])\n",
    "prepare_cudnn(deterministic=True, benchmark=True)"
   ]
  },
  {
   "cell_type": "code",
   "execution_count": 15,
   "metadata": {
    "id": "0GhMrVxfD9xl"
   },
   "outputs": [],
   "source": [
    "logdir = global_path+'logs/test02'"
   ]
  },
  {
   "cell_type": "code",
   "execution_count": 16,
   "metadata": {
    "id": "XNvi5_7a_4Ja"
   },
   "outputs": [],
   "source": [
    "class CustomRunner(dl.Runner):\n",
    "    def predict_batch(self, batch):\n",
    "        x = dict(batch)\n",
    "        del x['targets']\n",
    "\n",
    "        return self.model(x)\n",
    "    \n",
    "    def _handle_batch(self, batch):\n",
    "        x = dict(batch)\n",
    "        del x['targets']\n",
    "        y = batch['targets']#.reshape(-1)\n",
    "\n",
    "        logits = self.model(x)\n",
    "\n",
    "        self.state.input = {\"features\": x, \"targets\": y}\n",
    "        self.state.output = {\"logits\": logits}\n",
    "\n",
    "runner = CustomRunner()"
   ]
  },
  {
   "cell_type": "code",
   "execution_count": 17,
   "metadata": {
    "colab": {
     "base_uri": "https://localhost:8080/"
    },
    "id": "Gi5bR_IJkZEM",
    "outputId": "288ac0bb-7a00-42e9-e69b-8bcf38876a53"
   },
   "outputs": [
    {
     "name": "stdout",
     "output_type": "stream",
     "text": [
      "Selected optimization level O1:  Insert automatic casts around Pytorch functions and Tensor methods.\n",
      "\n",
      "Defaults for this optimization level are:\n",
      "enabled                : True\n",
      "opt_level              : O1\n",
      "cast_model_type        : None\n",
      "patch_torch_functions  : True\n",
      "keep_batchnorm_fp32    : None\n",
      "master_weights         : None\n",
      "loss_scale             : dynamic\n",
      "Processing user overrides (additional kwargs that are not None)...\n",
      "After processing overrides, optimization options are:\n",
      "enabled                : True\n",
      "opt_level              : O1\n",
      "cast_model_type        : None\n",
      "patch_torch_functions  : True\n",
      "keep_batchnorm_fp32    : None\n",
      "master_weights         : None\n",
      "loss_scale             : dynamic\n",
      "1/3 * Epoch (train):   0% 0/747 [00:00<?, ?it/s]"
     ]
    },
    {
     "name": "stderr",
     "output_type": "stream",
     "text": [
      "/home/user/conda/lib/python3.7/site-packages/torch/nn/modules/module.py:541: UserWarning: Implicit dimension choice for softmax has been deprecated. Change the call to include dim=X as an argument.\n",
      "  result = self.forward(*input, **kwargs)\n"
     ]
    },
    {
     "name": "stdout",
     "output_type": "stream",
     "text": [
      "1/3 * Epoch (train):  47% 348/747 [01:25<01:37,  4.10it/s, accuracy01=0.625, f1_score=0.500, loss=0.729]Gradient overflow.  Skipping step, loss scaler 0 reducing loss scale to 32768.0\n",
      "1/3 * Epoch (train):  50% 376/747 [01:32<01:30,  4.11it/s, accuracy01=0.750, f1_score=0.429, loss=0.600]Gradient overflow.  Skipping step, loss scaler 0 reducing loss scale to 16384.0\n",
      "1/3 * Epoch (train):  55% 414/747 [01:41<01:23,  3.99it/s, accuracy01=0.562, f1_score=0.360, loss=0.656]Gradient overflow.  Skipping step, loss scaler 0 reducing loss scale to 8192.0\n",
      "1/3 * Epoch (train): 100% 747/747 [03:03<00:00,  4.07it/s, accuracy01=0.500, f1_score=0.333, loss=0.712]\n",
      "1/3 * Epoch (valid): 100% 140/140 [00:11<00:00, 11.78it/s, accuracy01=0.545, f1_score=0.353, loss=0.690]\n",
      "[2021-02-28 17:14:41,179] \n",
      "1/3 * Epoch 1 (_base): lr=5.000e-05 | momentum=0.9000\n",
      "1/3 * Epoch 1 (train): accuracy01=0.5869 | f1_score=0.3932 | loss=0.6811\n",
      "1/3 * Epoch 1 (valid): accuracy01=0.6040 | f1_score=0.3752 | loss=0.6737\n",
      "2/3 * Epoch (train): 100% 747/747 [03:02<00:00,  4.09it/s, accuracy01=0.500, f1_score=0.333, loss=0.726]\n",
      "2/3 * Epoch (valid): 100% 140/140 [00:11<00:00, 12.35it/s, accuracy01=0.545, f1_score=0.353, loss=0.696]\n",
      "[2021-02-28 17:17:55,342] \n",
      "2/3 * Epoch 2 (_base): lr=5.000e-05 | momentum=0.9000\n",
      "2/3 * Epoch 2 (train): accuracy01=0.5915 | f1_score=0.3750 | loss=0.6771\n",
      "2/3 * Epoch 2 (valid): accuracy01=0.6054 | f1_score=0.3757 | loss=0.6708\n",
      "3/3 * Epoch (train): 100% 747/747 [03:02<00:00,  4.09it/s, accuracy01=0.786, f1_score=0.440, loss=0.619]\n",
      "3/3 * Epoch (valid): 100% 140/140 [00:11<00:00, 12.39it/s, accuracy01=0.545, f1_score=0.353, loss=0.692]\n",
      "[2021-02-28 17:21:09,141] \n",
      "3/3 * Epoch 3 (_base): lr=5.000e-05 | momentum=0.9000\n",
      "3/3 * Epoch 3 (train): accuracy01=0.5935 | f1_score=0.3733 | loss=0.6782\n",
      "3/3 * Epoch 3 (valid): accuracy01=0.6013 | f1_score=0.3740 | loss=0.6730\n",
      "Top best models:\n",
      "/home/jovyan/AI_21/logs/test02/checkpoints/last.pth\t0.6730\n"
     ]
    }
   ],
   "source": [
    "runner.train(\n",
    "    model=model,\n",
    "    criterion=nn.CrossEntropyLoss(),\n",
    "    optimizer=optimizer,\n",
    "    scheduler=scheduler,\n",
    "    loaders=train_val_dataloaders,\n",
    "    callbacks=[\n",
    "        dl.AccuracyCallback(num_classes=experiment_params['NUM_CLASSES']),\n",
    "        dl.OptimizerCallback(\n",
    "            accumulation_steps=(\n",
    "                experiment_params['EFFECTIVE_BATCH_SIZE'] //\n",
    "                experiment_params['BATCH_SIZE']\n",
    "            ),\n",
    "            use_fast_zero_grad=True\n",
    "        ),\n",
    "        dl.F1ScoreCallback(),\n",
    "        dl.CheckpointCallback(\n",
    "            save_n_best=0,\n",
    "            #resume=global_path+'logs/test28/checkpoints/last_full.pth'\n",
    "        ),\n",
    "        #FullUnreezeCallback(50),\n",
    "        dl.CriterionCallback(),\n",
    "        dl.SchedulerCallback(reduced_metric='loss'),\n",
    "        dl.EarlyStoppingCallback(3),\n",
    "        neptune_logger\n",
    "    ],\n",
    "    logdir=logdir,\n",
    "    num_epochs=3,\n",
    "    verbose=True,\n",
    "    fp16=True,\n",
    "    timeit=False,\n",
    ")"
   ]
  },
  {
   "cell_type": "markdown",
   "metadata": {
    "id": "6mRI0Agp-HFB"
   },
   "source": [
    "### Prediction"
   ]
  },
  {
   "cell_type": "code",
   "execution_count": null,
   "metadata": {
    "id": "0m-Npp1_rwK0"
   },
   "outputs": [],
   "source": [
    "runner.infer(\n",
    "    model=model,\n",
    "    loaders=test_dataloader,\n",
    "    callbacks=[InferCallback()],\n",
    "    verbose=True,\n",
    "    resume='/content/drive/MyDrive/ML/AI 21/logs/test14/checkpoints/train.2.pth'\n",
    ")\n",
    "assert len(runner.callbacks[0].predictions['logits']) == 7614"
   ]
  },
  {
   "cell_type": "code",
   "execution_count": null,
   "metadata": {
    "id": "YiEvozcZzayY"
   },
   "outputs": [],
   "source": [
    "for s, sample in enumerate(submit_example):\n",
    "    for t, task in enumerate(sample['passage']['questions']):\n",
    "        for a, answer_info in enumerate(task['answers']):           \n",
    "            submit_location = submit_example[s]['passage']['questions'][t]['answers'][a]\n",
    "            final_answer = np.argmax(runner.callbacks[0].predictions['logits'][answer_info['idx']])\n",
    "\n",
    "            submit_location['label'] = int(final_answer)\n",
    "            #print(s, t, a, answer_info['idx'], final_answer)"
   ]
  },
  {
   "cell_type": "code",
   "execution_count": null,
   "metadata": {
    "id": "GQHvuB8c4X4I"
   },
   "outputs": [],
   "source": [
    "json_lines = [json.dumps(s) for s in submit_example]\n",
    "open(global_path+'data/submit.jsonl', 'w').write('\\n'.join(json_lines))"
   ]
  }
 ],
 "metadata": {
  "accelerator": "GPU",
  "colab": {
   "collapsed_sections": [],
   "machine_shape": "hm",
   "name": "Копия Копия Untitled",
   "provenance": []
  },
  "kernelspec": {
   "display_name": "Python 3",
   "language": "python",
   "name": "python3"
  },
  "language_info": {
   "codemirror_mode": {
    "name": "ipython",
    "version": 3
   },
   "file_extension": ".py",
   "mimetype": "text/x-python",
   "name": "python",
   "nbconvert_exporter": "python",
   "pygments_lexer": "ipython3",
   "version": "3.7.6"
  },
  "neptune": {
   "notebookId": "edda6c46-19ea-4f2f-ba3a-c25485380ab2"
  },
  "widgets": {
   "application/vnd.jupyter.widget-state+json": {
    "04ad71263f47456a803a87ace2f2f268": {
     "model_module": "@jupyter-widgets/controls",
     "model_name": "HBoxModel",
     "state": {
      "_dom_classes": [],
      "_model_module": "@jupyter-widgets/controls",
      "_model_module_version": "1.5.0",
      "_model_name": "HBoxModel",
      "_view_count": null,
      "_view_module": "@jupyter-widgets/controls",
      "_view_module_version": "1.5.0",
      "_view_name": "HBoxView",
      "box_style": "",
      "children": [
       "IPY_MODEL_c1d5bf460e1e46279442a7a5dc85da8f",
       "IPY_MODEL_200b92c7040b4521a1e61b0dab26a351"
      ],
      "layout": "IPY_MODEL_2ae8ecc7ec814f6a9a145e1ade6dcb54"
     }
    },
    "18adb87e10624ec49caa051b5ff2d819": {
     "model_module": "@jupyter-widgets/controls",
     "model_name": "HTMLModel",
     "state": {
      "_dom_classes": [],
      "_model_module": "@jupyter-widgets/controls",
      "_model_module_version": "1.5.0",
      "_model_name": "HTMLModel",
      "_view_count": null,
      "_view_module": "@jupyter-widgets/controls",
      "_view_module_version": "1.5.0",
      "_view_name": "HTMLView",
      "description": "",
      "description_tooltip": null,
      "layout": "IPY_MODEL_25b361832c4a40d08c4747116086b2ab",
      "placeholder": "​",
      "style": "IPY_MODEL_508c7aba38074e81946f2461e147205c",
      "value": " 112/112 [00:00&lt;00:00, 4.29kB/s]"
     }
    },
    "1ab2a34c85f54e47b40bbbbfc4c586e7": {
     "model_module": "@jupyter-widgets/base",
     "model_name": "LayoutModel",
     "state": {
      "_model_module": "@jupyter-widgets/base",
      "_model_module_version": "1.2.0",
      "_model_name": "LayoutModel",
      "_view_count": null,
      "_view_module": "@jupyter-widgets/base",
      "_view_module_version": "1.2.0",
      "_view_name": "LayoutView",
      "align_content": null,
      "align_items": null,
      "align_self": null,
      "border": null,
      "bottom": null,
      "display": null,
      "flex": null,
      "flex_flow": null,
      "grid_area": null,
      "grid_auto_columns": null,
      "grid_auto_flow": null,
      "grid_auto_rows": null,
      "grid_column": null,
      "grid_gap": null,
      "grid_row": null,
      "grid_template_areas": null,
      "grid_template_columns": null,
      "grid_template_rows": null,
      "height": null,
      "justify_content": null,
      "justify_items": null,
      "left": null,
      "margin": null,
      "max_height": null,
      "max_width": null,
      "min_height": null,
      "min_width": null,
      "object_fit": null,
      "object_position": null,
      "order": null,
      "overflow": null,
      "overflow_x": null,
      "overflow_y": null,
      "padding": null,
      "right": null,
      "top": null,
      "visibility": null,
      "width": null
     }
    },
    "1dff217a9b8d4df8977f10e458a364a9": {
     "model_module": "@jupyter-widgets/base",
     "model_name": "LayoutModel",
     "state": {
      "_model_module": "@jupyter-widgets/base",
      "_model_module_version": "1.2.0",
      "_model_name": "LayoutModel",
      "_view_count": null,
      "_view_module": "@jupyter-widgets/base",
      "_view_module_version": "1.2.0",
      "_view_name": "LayoutView",
      "align_content": null,
      "align_items": null,
      "align_self": null,
      "border": null,
      "bottom": null,
      "display": null,
      "flex": null,
      "flex_flow": null,
      "grid_area": null,
      "grid_auto_columns": null,
      "grid_auto_flow": null,
      "grid_auto_rows": null,
      "grid_column": null,
      "grid_gap": null,
      "grid_row": null,
      "grid_template_areas": null,
      "grid_template_columns": null,
      "grid_template_rows": null,
      "height": null,
      "justify_content": null,
      "justify_items": null,
      "left": null,
      "margin": null,
      "max_height": null,
      "max_width": null,
      "min_height": null,
      "min_width": null,
      "object_fit": null,
      "object_position": null,
      "order": null,
      "overflow": null,
      "overflow_x": null,
      "overflow_y": null,
      "padding": null,
      "right": null,
      "top": null,
      "visibility": null,
      "width": null
     }
    },
    "200b92c7040b4521a1e61b0dab26a351": {
     "model_module": "@jupyter-widgets/controls",
     "model_name": "HTMLModel",
     "state": {
      "_dom_classes": [],
      "_model_module": "@jupyter-widgets/controls",
      "_model_module_version": "1.5.0",
      "_model_name": "HTMLModel",
      "_view_count": null,
      "_view_module": "@jupyter-widgets/controls",
      "_view_module_version": "1.5.0",
      "_view_name": "HTMLView",
      "description": "",
      "description_tooltip": null,
      "layout": "IPY_MODEL_1ab2a34c85f54e47b40bbbbfc4c586e7",
      "placeholder": "​",
      "style": "IPY_MODEL_90bb83467463461cbac8bce00e369ffa",
      "value": " 2.00/2.00 [00:00&lt;00:00, 13.9B/s]"
     }
    },
    "25b361832c4a40d08c4747116086b2ab": {
     "model_module": "@jupyter-widgets/base",
     "model_name": "LayoutModel",
     "state": {
      "_model_module": "@jupyter-widgets/base",
      "_model_module_version": "1.2.0",
      "_model_name": "LayoutModel",
      "_view_count": null,
      "_view_module": "@jupyter-widgets/base",
      "_view_module_version": "1.2.0",
      "_view_name": "LayoutView",
      "align_content": null,
      "align_items": null,
      "align_self": null,
      "border": null,
      "bottom": null,
      "display": null,
      "flex": null,
      "flex_flow": null,
      "grid_area": null,
      "grid_auto_columns": null,
      "grid_auto_flow": null,
      "grid_auto_rows": null,
      "grid_column": null,
      "grid_gap": null,
      "grid_row": null,
      "grid_template_areas": null,
      "grid_template_columns": null,
      "grid_template_rows": null,
      "height": null,
      "justify_content": null,
      "justify_items": null,
      "left": null,
      "margin": null,
      "max_height": null,
      "max_width": null,
      "min_height": null,
      "min_width": null,
      "object_fit": null,
      "object_position": null,
      "order": null,
      "overflow": null,
      "overflow_x": null,
      "overflow_y": null,
      "padding": null,
      "right": null,
      "top": null,
      "visibility": null,
      "width": null
     }
    },
    "2ae8ecc7ec814f6a9a145e1ade6dcb54": {
     "model_module": "@jupyter-widgets/base",
     "model_name": "LayoutModel",
     "state": {
      "_model_module": "@jupyter-widgets/base",
      "_model_module_version": "1.2.0",
      "_model_name": "LayoutModel",
      "_view_count": null,
      "_view_module": "@jupyter-widgets/base",
      "_view_module_version": "1.2.0",
      "_view_name": "LayoutView",
      "align_content": null,
      "align_items": null,
      "align_self": null,
      "border": null,
      "bottom": null,
      "display": null,
      "flex": null,
      "flex_flow": null,
      "grid_area": null,
      "grid_auto_columns": null,
      "grid_auto_flow": null,
      "grid_auto_rows": null,
      "grid_column": null,
      "grid_gap": null,
      "grid_row": null,
      "grid_template_areas": null,
      "grid_template_columns": null,
      "grid_template_rows": null,
      "height": null,
      "justify_content": null,
      "justify_items": null,
      "left": null,
      "margin": null,
      "max_height": null,
      "max_width": null,
      "min_height": null,
      "min_width": null,
      "object_fit": null,
      "object_position": null,
      "order": null,
      "overflow": null,
      "overflow_x": null,
      "overflow_y": null,
      "padding": null,
      "right": null,
      "top": null,
      "visibility": null,
      "width": null
     }
    },
    "2c4e7a88366a468c8c775bd806b1ccc3": {
     "model_module": "@jupyter-widgets/controls",
     "model_name": "HBoxModel",
     "state": {
      "_dom_classes": [],
      "_model_module": "@jupyter-widgets/controls",
      "_model_module_version": "1.5.0",
      "_model_name": "HBoxModel",
      "_view_count": null,
      "_view_module": "@jupyter-widgets/controls",
      "_view_module_version": "1.5.0",
      "_view_name": "HBoxView",
      "box_style": "",
      "children": [
       "IPY_MODEL_976adfce900f465497021446da60d5a2",
       "IPY_MODEL_acb152e2c7e3405ea0e37c9ac405d667"
      ],
      "layout": "IPY_MODEL_6863ea5e9f764bc4a03e59cc31b52dbf"
     }
    },
    "44a9091e25a14561902002396df5fb1b": {
     "model_module": "@jupyter-widgets/controls",
     "model_name": "ProgressStyleModel",
     "state": {
      "_model_module": "@jupyter-widgets/controls",
      "_model_module_version": "1.5.0",
      "_model_name": "ProgressStyleModel",
      "_view_count": null,
      "_view_module": "@jupyter-widgets/base",
      "_view_module_version": "1.2.0",
      "_view_name": "StyleView",
      "bar_color": null,
      "description_width": "initial"
     }
    },
    "45bbece6efae43b0a7d90c3a34821b9c": {
     "model_module": "@jupyter-widgets/base",
     "model_name": "LayoutModel",
     "state": {
      "_model_module": "@jupyter-widgets/base",
      "_model_module_version": "1.2.0",
      "_model_name": "LayoutModel",
      "_view_count": null,
      "_view_module": "@jupyter-widgets/base",
      "_view_module_version": "1.2.0",
      "_view_name": "LayoutView",
      "align_content": null,
      "align_items": null,
      "align_self": null,
      "border": null,
      "bottom": null,
      "display": null,
      "flex": null,
      "flex_flow": null,
      "grid_area": null,
      "grid_auto_columns": null,
      "grid_auto_flow": null,
      "grid_auto_rows": null,
      "grid_column": null,
      "grid_gap": null,
      "grid_row": null,
      "grid_template_areas": null,
      "grid_template_columns": null,
      "grid_template_rows": null,
      "height": null,
      "justify_content": null,
      "justify_items": null,
      "left": null,
      "margin": null,
      "max_height": null,
      "max_width": null,
      "min_height": null,
      "min_width": null,
      "object_fit": null,
      "object_position": null,
      "order": null,
      "overflow": null,
      "overflow_x": null,
      "overflow_y": null,
      "padding": null,
      "right": null,
      "top": null,
      "visibility": null,
      "width": null
     }
    },
    "4b4ffbce6b904016b8d469221783be66": {
     "model_module": "@jupyter-widgets/base",
     "model_name": "LayoutModel",
     "state": {
      "_model_module": "@jupyter-widgets/base",
      "_model_module_version": "1.2.0",
      "_model_name": "LayoutModel",
      "_view_count": null,
      "_view_module": "@jupyter-widgets/base",
      "_view_module_version": "1.2.0",
      "_view_name": "LayoutView",
      "align_content": null,
      "align_items": null,
      "align_self": null,
      "border": null,
      "bottom": null,
      "display": null,
      "flex": null,
      "flex_flow": null,
      "grid_area": null,
      "grid_auto_columns": null,
      "grid_auto_flow": null,
      "grid_auto_rows": null,
      "grid_column": null,
      "grid_gap": null,
      "grid_row": null,
      "grid_template_areas": null,
      "grid_template_columns": null,
      "grid_template_rows": null,
      "height": null,
      "justify_content": null,
      "justify_items": null,
      "left": null,
      "margin": null,
      "max_height": null,
      "max_width": null,
      "min_height": null,
      "min_width": null,
      "object_fit": null,
      "object_position": null,
      "order": null,
      "overflow": null,
      "overflow_x": null,
      "overflow_y": null,
      "padding": null,
      "right": null,
      "top": null,
      "visibility": null,
      "width": null
     }
    },
    "4b9ccc8c3d1c4658be560919549457d4": {
     "model_module": "@jupyter-widgets/controls",
     "model_name": "ProgressStyleModel",
     "state": {
      "_model_module": "@jupyter-widgets/controls",
      "_model_module_version": "1.5.0",
      "_model_name": "ProgressStyleModel",
      "_view_count": null,
      "_view_module": "@jupyter-widgets/base",
      "_view_module_version": "1.2.0",
      "_view_name": "StyleView",
      "bar_color": null,
      "description_width": "initial"
     }
    },
    "508c7aba38074e81946f2461e147205c": {
     "model_module": "@jupyter-widgets/controls",
     "model_name": "DescriptionStyleModel",
     "state": {
      "_model_module": "@jupyter-widgets/controls",
      "_model_module_version": "1.5.0",
      "_model_name": "DescriptionStyleModel",
      "_view_count": null,
      "_view_module": "@jupyter-widgets/base",
      "_view_module_version": "1.2.0",
      "_view_name": "StyleView",
      "description_width": ""
     }
    },
    "56cf37a9ced94b2b818fa9cbc0c2eb65": {
     "model_module": "@jupyter-widgets/controls",
     "model_name": "HBoxModel",
     "state": {
      "_dom_classes": [],
      "_model_module": "@jupyter-widgets/controls",
      "_model_module_version": "1.5.0",
      "_model_name": "HBoxModel",
      "_view_count": null,
      "_view_module": "@jupyter-widgets/controls",
      "_view_module_version": "1.5.0",
      "_view_name": "HBoxView",
      "box_style": "",
      "children": [
       "IPY_MODEL_784b0f4f4a4d4a82ab8fd9856701ab11",
       "IPY_MODEL_a5f470eb63ec4c47bddbb6d63366b221"
      ],
      "layout": "IPY_MODEL_45bbece6efae43b0a7d90c3a34821b9c"
     }
    },
    "56edbef257dd42e6b2bc6238d84fd71d": {
     "model_module": "@jupyter-widgets/base",
     "model_name": "LayoutModel",
     "state": {
      "_model_module": "@jupyter-widgets/base",
      "_model_module_version": "1.2.0",
      "_model_name": "LayoutModel",
      "_view_count": null,
      "_view_module": "@jupyter-widgets/base",
      "_view_module_version": "1.2.0",
      "_view_name": "LayoutView",
      "align_content": null,
      "align_items": null,
      "align_self": null,
      "border": null,
      "bottom": null,
      "display": null,
      "flex": null,
      "flex_flow": null,
      "grid_area": null,
      "grid_auto_columns": null,
      "grid_auto_flow": null,
      "grid_auto_rows": null,
      "grid_column": null,
      "grid_gap": null,
      "grid_row": null,
      "grid_template_areas": null,
      "grid_template_columns": null,
      "grid_template_rows": null,
      "height": null,
      "justify_content": null,
      "justify_items": null,
      "left": null,
      "margin": null,
      "max_height": null,
      "max_width": null,
      "min_height": null,
      "min_width": null,
      "object_fit": null,
      "object_position": null,
      "order": null,
      "overflow": null,
      "overflow_x": null,
      "overflow_y": null,
      "padding": null,
      "right": null,
      "top": null,
      "visibility": null,
      "width": null
     }
    },
    "5815f0a142514104a5cff8e8cf77ba83": {
     "model_module": "@jupyter-widgets/controls",
     "model_name": "HBoxModel",
     "state": {
      "_dom_classes": [],
      "_model_module": "@jupyter-widgets/controls",
      "_model_module_version": "1.5.0",
      "_model_name": "HBoxModel",
      "_view_count": null,
      "_view_module": "@jupyter-widgets/controls",
      "_view_module_version": "1.5.0",
      "_view_name": "HBoxView",
      "box_style": "",
      "children": [
       "IPY_MODEL_58fa6a5b44354c58a5fb1b00b1e42d11",
       "IPY_MODEL_18adb87e10624ec49caa051b5ff2d819"
      ],
      "layout": "IPY_MODEL_fff632f89cb049958c7e26f712394df4"
     }
    },
    "58fa6a5b44354c58a5fb1b00b1e42d11": {
     "model_module": "@jupyter-widgets/controls",
     "model_name": "FloatProgressModel",
     "state": {
      "_dom_classes": [],
      "_model_module": "@jupyter-widgets/controls",
      "_model_module_version": "1.5.0",
      "_model_name": "FloatProgressModel",
      "_view_count": null,
      "_view_module": "@jupyter-widgets/controls",
      "_view_module_version": "1.5.0",
      "_view_name": "ProgressView",
      "bar_style": "success",
      "description": "Downloading: 100%",
      "description_tooltip": null,
      "layout": "IPY_MODEL_4b4ffbce6b904016b8d469221783be66",
      "max": 112,
      "min": 0,
      "orientation": "horizontal",
      "style": "IPY_MODEL_44a9091e25a14561902002396df5fb1b",
      "value": 112
     }
    },
    "5be2ae5723f14dde8e1ccf401ded184c": {
     "model_module": "@jupyter-widgets/controls",
     "model_name": "DescriptionStyleModel",
     "state": {
      "_model_module": "@jupyter-widgets/controls",
      "_model_module_version": "1.5.0",
      "_model_name": "DescriptionStyleModel",
      "_view_count": null,
      "_view_module": "@jupyter-widgets/base",
      "_view_module_version": "1.2.0",
      "_view_name": "StyleView",
      "description_width": ""
     }
    },
    "5d4ed07583854d1a92f59f244e89e4a0": {
     "model_module": "@jupyter-widgets/base",
     "model_name": "LayoutModel",
     "state": {
      "_model_module": "@jupyter-widgets/base",
      "_model_module_version": "1.2.0",
      "_model_name": "LayoutModel",
      "_view_count": null,
      "_view_module": "@jupyter-widgets/base",
      "_view_module_version": "1.2.0",
      "_view_name": "LayoutView",
      "align_content": null,
      "align_items": null,
      "align_self": null,
      "border": null,
      "bottom": null,
      "display": null,
      "flex": null,
      "flex_flow": null,
      "grid_area": null,
      "grid_auto_columns": null,
      "grid_auto_flow": null,
      "grid_auto_rows": null,
      "grid_column": null,
      "grid_gap": null,
      "grid_row": null,
      "grid_template_areas": null,
      "grid_template_columns": null,
      "grid_template_rows": null,
      "height": null,
      "justify_content": null,
      "justify_items": null,
      "left": null,
      "margin": null,
      "max_height": null,
      "max_width": null,
      "min_height": null,
      "min_width": null,
      "object_fit": null,
      "object_position": null,
      "order": null,
      "overflow": null,
      "overflow_x": null,
      "overflow_y": null,
      "padding": null,
      "right": null,
      "top": null,
      "visibility": null,
      "width": null
     }
    },
    "6863ea5e9f764bc4a03e59cc31b52dbf": {
     "model_module": "@jupyter-widgets/base",
     "model_name": "LayoutModel",
     "state": {
      "_model_module": "@jupyter-widgets/base",
      "_model_module_version": "1.2.0",
      "_model_name": "LayoutModel",
      "_view_count": null,
      "_view_module": "@jupyter-widgets/base",
      "_view_module_version": "1.2.0",
      "_view_name": "LayoutView",
      "align_content": null,
      "align_items": null,
      "align_self": null,
      "border": null,
      "bottom": null,
      "display": null,
      "flex": null,
      "flex_flow": null,
      "grid_area": null,
      "grid_auto_columns": null,
      "grid_auto_flow": null,
      "grid_auto_rows": null,
      "grid_column": null,
      "grid_gap": null,
      "grid_row": null,
      "grid_template_areas": null,
      "grid_template_columns": null,
      "grid_template_rows": null,
      "height": null,
      "justify_content": null,
      "justify_items": null,
      "left": null,
      "margin": null,
      "max_height": null,
      "max_width": null,
      "min_height": null,
      "min_width": null,
      "object_fit": null,
      "object_position": null,
      "order": null,
      "overflow": null,
      "overflow_x": null,
      "overflow_y": null,
      "padding": null,
      "right": null,
      "top": null,
      "visibility": null,
      "width": null
     }
    },
    "6d2c3ccd23b54d74add1d2c807de630f": {
     "model_module": "@jupyter-widgets/base",
     "model_name": "LayoutModel",
     "state": {
      "_model_module": "@jupyter-widgets/base",
      "_model_module_version": "1.2.0",
      "_model_name": "LayoutModel",
      "_view_count": null,
      "_view_module": "@jupyter-widgets/base",
      "_view_module_version": "1.2.0",
      "_view_name": "LayoutView",
      "align_content": null,
      "align_items": null,
      "align_self": null,
      "border": null,
      "bottom": null,
      "display": null,
      "flex": null,
      "flex_flow": null,
      "grid_area": null,
      "grid_auto_columns": null,
      "grid_auto_flow": null,
      "grid_auto_rows": null,
      "grid_column": null,
      "grid_gap": null,
      "grid_row": null,
      "grid_template_areas": null,
      "grid_template_columns": null,
      "grid_template_rows": null,
      "height": null,
      "justify_content": null,
      "justify_items": null,
      "left": null,
      "margin": null,
      "max_height": null,
      "max_width": null,
      "min_height": null,
      "min_width": null,
      "object_fit": null,
      "object_position": null,
      "order": null,
      "overflow": null,
      "overflow_x": null,
      "overflow_y": null,
      "padding": null,
      "right": null,
      "top": null,
      "visibility": null,
      "width": null
     }
    },
    "746cf104d8a44815bde139f96c344f2e": {
     "model_module": "@jupyter-widgets/base",
     "model_name": "LayoutModel",
     "state": {
      "_model_module": "@jupyter-widgets/base",
      "_model_module_version": "1.2.0",
      "_model_name": "LayoutModel",
      "_view_count": null,
      "_view_module": "@jupyter-widgets/base",
      "_view_module_version": "1.2.0",
      "_view_name": "LayoutView",
      "align_content": null,
      "align_items": null,
      "align_self": null,
      "border": null,
      "bottom": null,
      "display": null,
      "flex": null,
      "flex_flow": null,
      "grid_area": null,
      "grid_auto_columns": null,
      "grid_auto_flow": null,
      "grid_auto_rows": null,
      "grid_column": null,
      "grid_gap": null,
      "grid_row": null,
      "grid_template_areas": null,
      "grid_template_columns": null,
      "grid_template_rows": null,
      "height": null,
      "justify_content": null,
      "justify_items": null,
      "left": null,
      "margin": null,
      "max_height": null,
      "max_width": null,
      "min_height": null,
      "min_width": null,
      "object_fit": null,
      "object_position": null,
      "order": null,
      "overflow": null,
      "overflow_x": null,
      "overflow_y": null,
      "padding": null,
      "right": null,
      "top": null,
      "visibility": null,
      "width": null
     }
    },
    "784b0f4f4a4d4a82ab8fd9856701ab11": {
     "model_module": "@jupyter-widgets/controls",
     "model_name": "FloatProgressModel",
     "state": {
      "_dom_classes": [],
      "_model_module": "@jupyter-widgets/controls",
      "_model_module_version": "1.5.0",
      "_model_name": "FloatProgressModel",
      "_view_count": null,
      "_view_module": "@jupyter-widgets/controls",
      "_view_module_version": "1.5.0",
      "_view_name": "ProgressView",
      "bar_style": "success",
      "description": "Downloading: 100%",
      "description_tooltip": null,
      "layout": "IPY_MODEL_56edbef257dd42e6b2bc6238d84fd71d",
      "max": 711456796,
      "min": 0,
      "orientation": "horizontal",
      "style": "IPY_MODEL_4b9ccc8c3d1c4658be560919549457d4",
      "value": 711456796
     }
    },
    "7dd9dddb960647d192f187fb6279b182": {
     "model_module": "@jupyter-widgets/controls",
     "model_name": "FloatProgressModel",
     "state": {
      "_dom_classes": [],
      "_model_module": "@jupyter-widgets/controls",
      "_model_module_version": "1.5.0",
      "_model_name": "FloatProgressModel",
      "_view_count": null,
      "_view_module": "@jupyter-widgets/controls",
      "_view_module_version": "1.5.0",
      "_view_name": "ProgressView",
      "bar_style": "success",
      "description": "Downloading: 100%",
      "description_tooltip": null,
      "layout": "IPY_MODEL_5d4ed07583854d1a92f59f244e89e4a0",
      "max": 642,
      "min": 0,
      "orientation": "horizontal",
      "style": "IPY_MODEL_84f49eea292142498e0e388958671d5d",
      "value": 642
     }
    },
    "84f49eea292142498e0e388958671d5d": {
     "model_module": "@jupyter-widgets/controls",
     "model_name": "ProgressStyleModel",
     "state": {
      "_model_module": "@jupyter-widgets/controls",
      "_model_module_version": "1.5.0",
      "_model_name": "ProgressStyleModel",
      "_view_count": null,
      "_view_module": "@jupyter-widgets/base",
      "_view_module_version": "1.2.0",
      "_view_name": "StyleView",
      "bar_color": null,
      "description_width": "initial"
     }
    },
    "90bb83467463461cbac8bce00e369ffa": {
     "model_module": "@jupyter-widgets/controls",
     "model_name": "DescriptionStyleModel",
     "state": {
      "_model_module": "@jupyter-widgets/controls",
      "_model_module_version": "1.5.0",
      "_model_name": "DescriptionStyleModel",
      "_view_count": null,
      "_view_module": "@jupyter-widgets/base",
      "_view_module_version": "1.2.0",
      "_view_name": "StyleView",
      "description_width": ""
     }
    },
    "915566b65ffa4e1fbbf34ac708192ac9": {
     "model_module": "@jupyter-widgets/controls",
     "model_name": "HBoxModel",
     "state": {
      "_dom_classes": [],
      "_model_module": "@jupyter-widgets/controls",
      "_model_module_version": "1.5.0",
      "_model_name": "HBoxModel",
      "_view_count": null,
      "_view_module": "@jupyter-widgets/controls",
      "_view_module_version": "1.5.0",
      "_view_name": "HBoxView",
      "box_style": "",
      "children": [
       "IPY_MODEL_7dd9dddb960647d192f187fb6279b182",
       "IPY_MODEL_d80aad5f569a4429a0353b3c87707747"
      ],
      "layout": "IPY_MODEL_1dff217a9b8d4df8977f10e458a364a9"
     }
    },
    "976adfce900f465497021446da60d5a2": {
     "model_module": "@jupyter-widgets/controls",
     "model_name": "FloatProgressModel",
     "state": {
      "_dom_classes": [],
      "_model_module": "@jupyter-widgets/controls",
      "_model_module_version": "1.5.0",
      "_model_name": "FloatProgressModel",
      "_view_count": null,
      "_view_module": "@jupyter-widgets/controls",
      "_view_module_version": "1.5.0",
      "_view_name": "ProgressView",
      "bar_style": "success",
      "description": "Downloading: 100%",
      "description_tooltip": null,
      "layout": "IPY_MODEL_d81de7832447417d8ed3e11ede45bd73",
      "max": 1649718,
      "min": 0,
      "orientation": "horizontal",
      "style": "IPY_MODEL_f3cbc985dc5b4570b6ad05d0c7ba0aff",
      "value": 1649718
     }
    },
    "a3f23a111ff1426eb4cb8bd42b5861b0": {
     "model_module": "@jupyter-widgets/controls",
     "model_name": "DescriptionStyleModel",
     "state": {
      "_model_module": "@jupyter-widgets/controls",
      "_model_module_version": "1.5.0",
      "_model_name": "DescriptionStyleModel",
      "_view_count": null,
      "_view_module": "@jupyter-widgets/base",
      "_view_module_version": "1.2.0",
      "_view_name": "StyleView",
      "description_width": ""
     }
    },
    "a5f470eb63ec4c47bddbb6d63366b221": {
     "model_module": "@jupyter-widgets/controls",
     "model_name": "HTMLModel",
     "state": {
      "_dom_classes": [],
      "_model_module": "@jupyter-widgets/controls",
      "_model_module_version": "1.5.0",
      "_model_name": "HTMLModel",
      "_view_count": null,
      "_view_module": "@jupyter-widgets/controls",
      "_view_module_version": "1.5.0",
      "_view_name": "HTMLView",
      "description": "",
      "description_tooltip": null,
      "layout": "IPY_MODEL_6d2c3ccd23b54d74add1d2c807de630f",
      "placeholder": "​",
      "style": "IPY_MODEL_5be2ae5723f14dde8e1ccf401ded184c",
      "value": " 711M/711M [00:24&lt;00:00, 28.6MB/s]"
     }
    },
    "acb152e2c7e3405ea0e37c9ac405d667": {
     "model_module": "@jupyter-widgets/controls",
     "model_name": "HTMLModel",
     "state": {
      "_dom_classes": [],
      "_model_module": "@jupyter-widgets/controls",
      "_model_module_version": "1.5.0",
      "_model_name": "HTMLModel",
      "_view_count": null,
      "_view_module": "@jupyter-widgets/controls",
      "_view_module_version": "1.5.0",
      "_view_name": "HTMLView",
      "description": "",
      "description_tooltip": null,
      "layout": "IPY_MODEL_e0674d2dc82b4a2dabb02d83c5808ef9",
      "placeholder": "​",
      "style": "IPY_MODEL_bcb38ed236c74378ab446e579564d5e3",
      "value": " 1.65M/1.65M [00:01&lt;00:00, 1.31MB/s]"
     }
    },
    "bcb38ed236c74378ab446e579564d5e3": {
     "model_module": "@jupyter-widgets/controls",
     "model_name": "DescriptionStyleModel",
     "state": {
      "_model_module": "@jupyter-widgets/controls",
      "_model_module_version": "1.5.0",
      "_model_name": "DescriptionStyleModel",
      "_view_count": null,
      "_view_module": "@jupyter-widgets/base",
      "_view_module_version": "1.2.0",
      "_view_name": "StyleView",
      "description_width": ""
     }
    },
    "c1d5bf460e1e46279442a7a5dc85da8f": {
     "model_module": "@jupyter-widgets/controls",
     "model_name": "FloatProgressModel",
     "state": {
      "_dom_classes": [],
      "_model_module": "@jupyter-widgets/controls",
      "_model_module_version": "1.5.0",
      "_model_name": "FloatProgressModel",
      "_view_count": null,
      "_view_module": "@jupyter-widgets/controls",
      "_view_module_version": "1.5.0",
      "_view_name": "ProgressView",
      "bar_style": "success",
      "description": "Downloading: 100%",
      "description_tooltip": null,
      "layout": "IPY_MODEL_d56bca5ab9434fe183c4a259e437b735",
      "max": 2,
      "min": 0,
      "orientation": "horizontal",
      "style": "IPY_MODEL_d7c9a8664eea470881ad947cd7887e75",
      "value": 2
     }
    },
    "d56bca5ab9434fe183c4a259e437b735": {
     "model_module": "@jupyter-widgets/base",
     "model_name": "LayoutModel",
     "state": {
      "_model_module": "@jupyter-widgets/base",
      "_model_module_version": "1.2.0",
      "_model_name": "LayoutModel",
      "_view_count": null,
      "_view_module": "@jupyter-widgets/base",
      "_view_module_version": "1.2.0",
      "_view_name": "LayoutView",
      "align_content": null,
      "align_items": null,
      "align_self": null,
      "border": null,
      "bottom": null,
      "display": null,
      "flex": null,
      "flex_flow": null,
      "grid_area": null,
      "grid_auto_columns": null,
      "grid_auto_flow": null,
      "grid_auto_rows": null,
      "grid_column": null,
      "grid_gap": null,
      "grid_row": null,
      "grid_template_areas": null,
      "grid_template_columns": null,
      "grid_template_rows": null,
      "height": null,
      "justify_content": null,
      "justify_items": null,
      "left": null,
      "margin": null,
      "max_height": null,
      "max_width": null,
      "min_height": null,
      "min_width": null,
      "object_fit": null,
      "object_position": null,
      "order": null,
      "overflow": null,
      "overflow_x": null,
      "overflow_y": null,
      "padding": null,
      "right": null,
      "top": null,
      "visibility": null,
      "width": null
     }
    },
    "d7c9a8664eea470881ad947cd7887e75": {
     "model_module": "@jupyter-widgets/controls",
     "model_name": "ProgressStyleModel",
     "state": {
      "_model_module": "@jupyter-widgets/controls",
      "_model_module_version": "1.5.0",
      "_model_name": "ProgressStyleModel",
      "_view_count": null,
      "_view_module": "@jupyter-widgets/base",
      "_view_module_version": "1.2.0",
      "_view_name": "StyleView",
      "bar_color": null,
      "description_width": "initial"
     }
    },
    "d80aad5f569a4429a0353b3c87707747": {
     "model_module": "@jupyter-widgets/controls",
     "model_name": "HTMLModel",
     "state": {
      "_dom_classes": [],
      "_model_module": "@jupyter-widgets/controls",
      "_model_module_version": "1.5.0",
      "_model_name": "HTMLModel",
      "_view_count": null,
      "_view_module": "@jupyter-widgets/controls",
      "_view_module_version": "1.5.0",
      "_view_name": "HTMLView",
      "description": "",
      "description_tooltip": null,
      "layout": "IPY_MODEL_746cf104d8a44815bde139f96c344f2e",
      "placeholder": "​",
      "style": "IPY_MODEL_a3f23a111ff1426eb4cb8bd42b5861b0",
      "value": " 642/642 [00:02&lt;00:00, 279B/s]"
     }
    },
    "d81de7832447417d8ed3e11ede45bd73": {
     "model_module": "@jupyter-widgets/base",
     "model_name": "LayoutModel",
     "state": {
      "_model_module": "@jupyter-widgets/base",
      "_model_module_version": "1.2.0",
      "_model_name": "LayoutModel",
      "_view_count": null,
      "_view_module": "@jupyter-widgets/base",
      "_view_module_version": "1.2.0",
      "_view_name": "LayoutView",
      "align_content": null,
      "align_items": null,
      "align_self": null,
      "border": null,
      "bottom": null,
      "display": null,
      "flex": null,
      "flex_flow": null,
      "grid_area": null,
      "grid_auto_columns": null,
      "grid_auto_flow": null,
      "grid_auto_rows": null,
      "grid_column": null,
      "grid_gap": null,
      "grid_row": null,
      "grid_template_areas": null,
      "grid_template_columns": null,
      "grid_template_rows": null,
      "height": null,
      "justify_content": null,
      "justify_items": null,
      "left": null,
      "margin": null,
      "max_height": null,
      "max_width": null,
      "min_height": null,
      "min_width": null,
      "object_fit": null,
      "object_position": null,
      "order": null,
      "overflow": null,
      "overflow_x": null,
      "overflow_y": null,
      "padding": null,
      "right": null,
      "top": null,
      "visibility": null,
      "width": null
     }
    },
    "e0674d2dc82b4a2dabb02d83c5808ef9": {
     "model_module": "@jupyter-widgets/base",
     "model_name": "LayoutModel",
     "state": {
      "_model_module": "@jupyter-widgets/base",
      "_model_module_version": "1.2.0",
      "_model_name": "LayoutModel",
      "_view_count": null,
      "_view_module": "@jupyter-widgets/base",
      "_view_module_version": "1.2.0",
      "_view_name": "LayoutView",
      "align_content": null,
      "align_items": null,
      "align_self": null,
      "border": null,
      "bottom": null,
      "display": null,
      "flex": null,
      "flex_flow": null,
      "grid_area": null,
      "grid_auto_columns": null,
      "grid_auto_flow": null,
      "grid_auto_rows": null,
      "grid_column": null,
      "grid_gap": null,
      "grid_row": null,
      "grid_template_areas": null,
      "grid_template_columns": null,
      "grid_template_rows": null,
      "height": null,
      "justify_content": null,
      "justify_items": null,
      "left": null,
      "margin": null,
      "max_height": null,
      "max_width": null,
      "min_height": null,
      "min_width": null,
      "object_fit": null,
      "object_position": null,
      "order": null,
      "overflow": null,
      "overflow_x": null,
      "overflow_y": null,
      "padding": null,
      "right": null,
      "top": null,
      "visibility": null,
      "width": null
     }
    },
    "f3cbc985dc5b4570b6ad05d0c7ba0aff": {
     "model_module": "@jupyter-widgets/controls",
     "model_name": "ProgressStyleModel",
     "state": {
      "_model_module": "@jupyter-widgets/controls",
      "_model_module_version": "1.5.0",
      "_model_name": "ProgressStyleModel",
      "_view_count": null,
      "_view_module": "@jupyter-widgets/base",
      "_view_module_version": "1.2.0",
      "_view_name": "StyleView",
      "bar_color": null,
      "description_width": "initial"
     }
    },
    "fff632f89cb049958c7e26f712394df4": {
     "model_module": "@jupyter-widgets/base",
     "model_name": "LayoutModel",
     "state": {
      "_model_module": "@jupyter-widgets/base",
      "_model_module_version": "1.2.0",
      "_model_name": "LayoutModel",
      "_view_count": null,
      "_view_module": "@jupyter-widgets/base",
      "_view_module_version": "1.2.0",
      "_view_name": "LayoutView",
      "align_content": null,
      "align_items": null,
      "align_self": null,
      "border": null,
      "bottom": null,
      "display": null,
      "flex": null,
      "flex_flow": null,
      "grid_area": null,
      "grid_auto_columns": null,
      "grid_auto_flow": null,
      "grid_auto_rows": null,
      "grid_column": null,
      "grid_gap": null,
      "grid_row": null,
      "grid_template_areas": null,
      "grid_template_columns": null,
      "grid_template_rows": null,
      "height": null,
      "justify_content": null,
      "justify_items": null,
      "left": null,
      "margin": null,
      "max_height": null,
      "max_width": null,
      "min_height": null,
      "min_width": null,
      "object_fit": null,
      "object_position": null,
      "order": null,
      "overflow": null,
      "overflow_x": null,
      "overflow_y": null,
      "padding": null,
      "right": null,
      "top": null,
      "visibility": null,
      "width": null
     }
    }
   }
  }
 },
 "nbformat": 4,
 "nbformat_minor": 1
}
